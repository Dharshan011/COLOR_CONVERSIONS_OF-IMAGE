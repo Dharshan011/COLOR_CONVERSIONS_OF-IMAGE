{
 "cells": [
  {
   "cell_type": "code",
   "execution_count": null,
   "id": "2045b8fe-1035-4315-9214-390e58b52fbd",
   "metadata": {},
   "outputs": [],
   "source": [
    "    import cv2\n",
    "    image=cv2.imread('dog.png',1)\n",
    "    image=cv2.resize(image,(300,300))\n",
    "    cv2.imshow('Arun',image)\n",
    "    cv2.waitKey(0)\n",
    "    cv2.destroyAllWindows() \n",
    "\n"
   ]
  },
  {
   "cell_type": "code",
   "execution_count": 11,
   "id": "c636f165-624e-4dcc-ad16-b4e36fa7a73d",
   "metadata": {},
   "outputs": [
    {
     "data": {
      "text/plain": [
       "True"
      ]
     },
     "execution_count": 11,
     "metadata": {},
     "output_type": "execute_result"
    }
   ],
   "source": [
    "   image=cv2.imread('dog.png',0)\n",
    "   cv2.imwrite('demo.png',image)"
   ]
  },
  {
   "cell_type": "code",
   "execution_count": 12,
   "id": "a8dbee96-6ab6-45fe-a8fc-3ec5ed331e1d",
   "metadata": {},
   "outputs": [
    {
     "name": "stdout",
     "output_type": "stream",
     "text": [
      "(309, 310, 3)\n"
     ]
    }
   ],
   "source": [
    "    image=cv2.imread('dog.png',1)\n",
    "    print(image.shape)"
   ]
  },
  {
   "cell_type": "code",
   "execution_count": 21,
   "id": "71c45273-3d6c-4212-b1f7-c6b711976aba",
   "metadata": {},
   "outputs": [],
   "source": [
    "    import random\n",
    "    import cv2\n",
    "    image=cv2.imread('dog.png',1)\n",
    "    image=cv2.resize(image,(400,400))\n",
    "    for i in range (150,200):\n",
    "      for j in range(image.shape[1]):\n",
    "          image[i][j]=[random.randint(0,255),\n",
    "                       random.randint(0,255),\n",
    "                       random.randint(0,255)] \n",
    "    cv2.imshow('part image',image)\n",
    "    cv2.waitKey(0)\n",
    "    cv2.destroyAllWindows()"
   ]
  },
  {
   "cell_type": "code",
   "execution_count": 23,
   "id": "f702d9d7-b4c5-4c5e-83a7-d047fd750ef5",
   "metadata": {},
   "outputs": [],
   "source": [
    "   import cv2\n",
    "   image=cv2.imread('dog.png',1)\n",
    "   image=cv2.resize(image,(400,400))\n",
    "   tag =image[130:200,110:190]\n",
    "   image[110:180,120:200] = tag\n",
    "   cv2.imshow('partimage1',image)\n",
    "   cv2.waitKey(0)\n",
    "   cv2.destroyAllWindows()"
   ]
  },
  {
   "cell_type": "code",
   "execution_count": 25,
   "id": "ce1bc19e-ac30-4aed-883c-b58ba4d956d0",
   "metadata": {},
   "outputs": [],
   "source": [
    "import cv2\n",
    "img = cv2.imread('dog.png',1)\n",
    "img = cv2.resize(img,(300,200))\n",
    "cv2.imshow('Original Image',img)\n",
    "hsv1 = cv2.cvtColor(img,cv2.COLOR_BGR2HSV)\n",
    "cv2.imshow('BGR2HSV',hsv1)\n",
    "hsv2 = cv2.cvtColor(img,cv2.COLOR_RGB2HSV)\n",
    "cv2.imshow('RGB2HSV',hsv2)\n",
    "gray1 = cv2.cvtColor(img,cv2.COLOR_BGR2GRAY)\n",
    "cv2.imshow('BGR2GRAY',gray1)\n",
    "gray2 = cv2.cvtColor(img,cv2.COLOR_RGB2GRAY)\n",
    "cv2.imshow('RGB2GRAY',gray2)\n",
    "cv2.waitKey(0)\n",
    "cv2.destroyAllWindows()"
   ]
  },
  {
   "cell_type": "code",
   "execution_count": 27,
   "id": "14532006-3764-48b6-b6d5-787f5f8825b7",
   "metadata": {},
   "outputs": [],
   "source": [
    "import cv2\n",
    "img = cv2.imread('dog.png')\n",
    "img = cv2.resize(img,(300,200))\n",
    "img = cv2.cvtColor(img,cv2.COLOR_BGR2HSV)\n",
    "cv2.imshow('Original HSV Image',img)\n",
    "RGB = cv2.cvtColor(img,cv2.COLOR_HSV2RGB)\n",
    "cv2.imshow('2HSV2BGR',RGB)\n",
    "BGR = cv2.cvtColor(img,cv2.COLOR_HSV2BGR)\n",
    "cv2.imshow('HSV2RGB',BGR)\n",
    "cv2.waitKey(0)\n",
    "cv2.destroyAllWindows()"
   ]
  },
  {
   "cell_type": "code",
   "execution_count": 28,
   "id": "d10a6c5f-c371-4845-9334-643bbee44bea",
   "metadata": {},
   "outputs": [],
   "source": [
    "import cv2\n",
    "img = cv2.imread('dog.png')\n",
    "img = cv2.resize(img,(300,200))\n",
    "cv2.imshow('Original RGB Image',img)\n",
    "YCrCb1 = cv2.cvtColor(img, cv2.COLOR_BGR2YCrCb)\n",
    "cv2.imshow('RGB-2-YCrCb',YCrCb1)\n",
    "YCrCb2 = cv2.cvtColor(img, cv2.COLOR_RGB2YCrCb)\n",
    "cv2.imshow('BGR-2-YCrCb',YCrCb2)\n",
    "cv2.waitKey(0)\n",
    "cv2.destroyAllWindows()"
   ]
  },
  {
   "cell_type": "code",
   "execution_count": 29,
   "id": "4e601b34-bb18-43a4-8abb-6f595e6b2a22",
   "metadata": {},
   "outputs": [],
   "source": [
    "import cv2\n",
    "img = cv2.imread('dog.png',1)\n",
    "img = cv2.resize(img,(300,200))\n",
    "R = img[:,:,2]\n",
    "G = img[:,:,1]\n",
    "B = img[:,:,0]\n",
    "cv2.imshow('R-Channel',R)\n",
    "cv2.imshow('G-Channel',G)\n",
    "cv2.imshow('B-Channel',B)\n",
    "merged = cv2.merge((B,G,R))\n",
    "cv2.imshow('Merged RGB image',merged)\n",
    "cv2.waitKey(0)\n",
    "cv2.destroyAllWindows()"
   ]
  },
  {
   "cell_type": "code",
   "execution_count": null,
   "id": "9e694739-b3bf-4b63-9333-6057a0ec6131",
   "metadata": {},
   "outputs": [],
   "source": [
    "import cv2\n",
    "img = cv2.imread(\"dog.png\",1)\n",
    "img = cv2.resize(img,(300,200))\n",
    "img=cv2.cvtColor(img,cv2.COLOR_RGB2HSV)\n",
    "H,S,V=cv2.split(img)\n",
    "cv2.imshow('Hue',H)\n",
    "cv2.imshow('Saturation',S)\n",
    "cv2.imshow('Value',V)\n",
    "merged = cv2.merge((H,S,V))\n",
    "cv2.imshow('Merged',merged)\n",
    "cv2.waitKey(0)\n",
    "cv2.destroyAllWindows()"
   ]
  },
  {
   "cell_type": "code",
   "execution_count": null,
   "id": "3661ef7a-02da-4f25-9043-df4226e93cb3",
   "metadata": {},
   "outputs": [],
   "source": []
  },
  {
   "cell_type": "code",
   "execution_count": null,
   "id": "c024da17-9fb6-48d9-b16e-699e0d056ce9",
   "metadata": {},
   "outputs": [],
   "source": []
  },
  {
   "cell_type": "code",
   "execution_count": null,
   "id": "d6c5dc81-e6c7-41fe-a210-b9f22f682b7a",
   "metadata": {},
   "outputs": [],
   "source": []
  },
  {
   "cell_type": "code",
   "execution_count": null,
   "id": "6acea42e-17e3-4344-bb45-fd4a338c4d97",
   "metadata": {},
   "outputs": [],
   "source": []
  },
  {
   "cell_type": "code",
   "execution_count": null,
   "id": "ef0ed2e6-754a-4916-bf47-7924bf89058b",
   "metadata": {},
   "outputs": [],
   "source": []
  },
  {
   "cell_type": "code",
   "execution_count": null,
   "id": "454241bb-3cf2-4a3d-88a5-93bb85902caa",
   "metadata": {},
   "outputs": [],
   "source": []
  },
  {
   "cell_type": "code",
   "execution_count": null,
   "id": "becad9e8-06e5-4b51-82ae-577dbe21ea76",
   "metadata": {},
   "outputs": [],
   "source": []
  },
  {
   "cell_type": "code",
   "execution_count": null,
   "id": "bb50904b-5012-40de-9564-5bab6941c44a",
   "metadata": {},
   "outputs": [],
   "source": []
  },
  {
   "cell_type": "code",
   "execution_count": null,
   "id": "dbc9331a-8a7e-45c0-8809-177b174e0466",
   "metadata": {},
   "outputs": [],
   "source": []
  },
  {
   "cell_type": "code",
   "execution_count": null,
   "id": "022fa68c-9926-4b69-b2ef-f95a65a3f752",
   "metadata": {},
   "outputs": [],
   "source": []
  },
  {
   "cell_type": "code",
   "execution_count": null,
   "id": "3c396dff-5efd-4fe7-b865-382baab56b55",
   "metadata": {},
   "outputs": [],
   "source": []
  }
 ],
 "metadata": {
  "kernelspec": {
   "display_name": "Python 3 (ipykernel)",
   "language": "python",
   "name": "python3"
  },
  "language_info": {
   "codemirror_mode": {
    "name": "ipython",
    "version": 3
   },
   "file_extension": ".py",
   "mimetype": "text/x-python",
   "name": "python",
   "nbconvert_exporter": "python",
   "pygments_lexer": "ipython3",
   "version": "3.12.4"
  }
 },
 "nbformat": 4,
 "nbformat_minor": 5
}
